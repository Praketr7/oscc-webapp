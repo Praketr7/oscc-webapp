{
 "cells": [
  {
   "cell_type": "code",
   "execution_count": 1,
   "id": "bfd14a0f",
   "metadata": {},
   "outputs": [],
   "source": [
    "import pandas as pd\n",
    "import numpy as np\n",
    "import seaborn as sns\n",
    "import matplotlib.pyplot as plt\n",
    "from sklearn.impute import KNNImputer\n",
    "from sklearn.model_selection import train_test_split\n",
    "from sklearn.preprocessing import StandardScaler\n",
    "from sklearn.base import BaseEstimator, ClassifierMixin\n",
    "from sklearn.neighbors import KNeighborsClassifier\n",
    "from imblearn.ensemble import RUSBoostClassifier\n",
    "from sklearn.metrics import accuracy_score, classification_report\n",
    "from sklearn.tree import DecisionTreeClassifier\n",
    "from catboost import CatBoostClassifier\n"
   ]
  },
  {
   "cell_type": "code",
   "execution_count": 2,
   "id": "89755bb2",
   "metadata": {},
   "outputs": [],
   "source": [
    "data = pd.read_excel('oscc_dataset.xlsx')"
   ]
  },
  {
   "cell_type": "code",
   "execution_count": 3,
   "id": "e0842367",
   "metadata": {},
   "outputs": [
    {
     "name": "stdout",
     "output_type": "stream",
     "text": [
      "   Hospital No.  Age  Sex  Sites  DOI(mm)  T-stage  ENE N-stage  \\\n",
      "0       3446087   50    2      2      2.0        4    0      N-   \n",
      "1       3342831   76    2      2      3.0        4    1      N+   \n",
      "2       2871977   64    1      2      1.0        1    0      N-   \n",
      "3       3092768   49    1      2      3.0        4    1      N+   \n",
      "4       3700269   35    1      1      1.0        2    0      N-   \n",
      "\n",
      "   Platelet count(10power3/microliter)  WBC(TLC)(10power3/microliter)  ...  \\\n",
      "0                                  313                           11.7  ...   \n",
      "1                                  468                           18.3  ...   \n",
      "2                                  232                            8.5  ...   \n",
      "3                                  208                            6.8  ...   \n",
      "4                                  135                            5.4  ...   \n",
      "\n",
      "   Absolute monocyte count (TLC*monocyte %)(10power3/microliter)  \\\n",
      "0                                             1.0998               \n",
      "1                                             0.9882               \n",
      "2                                             0.7395               \n",
      "3                                             0.5236               \n",
      "4                                             0.4050               \n",
      "\n",
      "   Neutrophil %  \\\n",
      "0           NaN   \n",
      "1           NaN   \n",
      "2           NaN   \n",
      "3           NaN   \n",
      "4           NaN   \n",
      "\n",
      "   Absolute neutrophil count(WBC*neutrophil%/100)(10power3/microliter)  \\\n",
      "0                                               6.26                     \n",
      "1                                              13.85                     \n",
      "2                                               6.52                     \n",
      "3                                               4.50                     \n",
      "4                                               3.37                     \n",
      "\n",
      "   Lymphocyte %  \\\n",
      "0           NaN   \n",
      "1          14.2   \n",
      "2           NaN   \n",
      "3           NaN   \n",
      "4           NaN   \n",
      "\n",
      "   Absolute lymphocyte count(TLC* lymphocytes%/100)(10power3/microliter)  \\\n",
      "0                                             4.1800                       \n",
      "1                                             2.5986                       \n",
      "2                                             1.0800                       \n",
      "3                                             1.4300                       \n",
      "4                                             1.3200                       \n",
      "\n",
      "        NLR         PMR         PLR       LMR  \\\n",
      "0  1.497608  284.597199   74.880383  3.800691   \n",
      "1  5.329793  473.588342  180.096975  2.629630   \n",
      "2  6.037037  313.725490  214.814815  1.460446   \n",
      "3  3.146853  397.249809  145.454545  2.731092   \n",
      "4  2.553030  333.333333  102.272727  3.259259   \n",
      "\n",
      "   SII=P*(N/L)(10power3/microliter)  \n",
      "0                        468.751196  \n",
      "1                       2494.343108  \n",
      "2                       1400.592593  \n",
      "3                        654.545455  \n",
      "4                        344.659091  \n",
      "\n",
      "[5 rows x 21 columns]\n"
     ]
    }
   ],
   "source": [
    "print(data.head(5))"
   ]
  },
  {
   "cell_type": "code",
   "execution_count": 4,
   "id": "d3d850e8",
   "metadata": {},
   "outputs": [
    {
     "name": "stdout",
     "output_type": "stream",
     "text": [
      "[4 1 2 3]\n",
      "[2 1 3]\n"
     ]
    }
   ],
   "source": [
    "print(data[\"T-stage\"].unique())\n",
    "print(data[\"Sites\"].unique())"
   ]
  },
  {
   "cell_type": "code",
   "execution_count": 5,
   "id": "bb10028b",
   "metadata": {},
   "outputs": [],
   "source": [
    "clean_data = data.copy()\n",
    "clean_data = clean_data.drop(columns=['Neutrophil %', 'Lymphocyte %', 'Hospital No.'])\n",
    "knn_imputer = KNNImputer(n_neighbors=5, weights='distance')\n",
    "imputed_values = knn_imputer.fit_transform(clean_data[['DOI(mm)']])\n",
    "imputed_rounded = np.rint(imputed_values).astype(int)\n",
    "clean_data['DOI(mm)'] = imputed_rounded"
   ]
  },
  {
   "cell_type": "code",
   "execution_count": 6,
   "id": "5db0ccb4",
   "metadata": {},
   "outputs": [],
   "source": [
    "x = clean_data.drop(columns=['ENE', 'N-stage','Platelet count(10power3/microliter)', 'WBC(TLC)(10power3/microliter)', 'Monocyte %',\n",
    "                       'Absolute monocyte count (TLC*monocyte %)(10power3/microliter)', 'Absolute neutrophil count(WBC*neutrophil%/100)(10power3/microliter)',\n",
    "                       'Absolute lymphocyte count(TLC* lymphocytes%/100)(10power3/microliter)'])"
   ]
  },
  {
   "cell_type": "code",
   "execution_count": 7,
   "id": "5defed96",
   "metadata": {},
   "outputs": [
    {
     "name": "stdout",
     "output_type": "stream",
     "text": [
      "   Age  Sex  Sites  DOI(mm)  T-stage       NLR         PMR         PLR  \\\n",
      "0   50    2      2        2        4  1.497608  284.597199   74.880383   \n",
      "1   76    2      2        3        4  5.329793  473.588342  180.096975   \n",
      "2   64    1      2        1        1  6.037037  313.725490  214.814815   \n",
      "3   49    1      2        3        4  3.146853  397.249809  145.454545   \n",
      "4   35    1      1        1        2  2.553030  333.333333  102.272727   \n",
      "\n",
      "        LMR  SII=P*(N/L)(10power3/microliter)  \n",
      "0  3.800691                        468.751196  \n",
      "1  2.629630                       2494.343108  \n",
      "2  1.460446                       1400.592593  \n",
      "3  2.731092                        654.545455  \n",
      "4  3.259259                        344.659091  \n"
     ]
    }
   ],
   "source": [
    "print(x.head(5))"
   ]
  },
  {
   "cell_type": "code",
   "execution_count": 11,
   "id": "799314c1",
   "metadata": {},
   "outputs": [],
   "source": [
    "x_train, x_test, y_train, y_test = train_test_split(x, clean_data[['ENE','N-stage']], train_size=0.9, test_size=0.1, random_state=42)\n",
    "y_ene_train = y_train['ENE']\n",
    "y_ene_test = y_test['ENE']\n",
    "normalize = StandardScaler()\n",
    "x_train_norm = normalize.fit_transform(x_train)\n",
    "x_test_norm = normalize.transform(x_test)"
   ]
  },
  {
   "cell_type": "code",
   "execution_count": 12,
   "id": "5025677d",
   "metadata": {},
   "outputs": [],
   "source": [
    "model = CatBoostClassifier(\n",
    "        iterations=200,\n",
    "        depth=6,\n",
    "        learning_rate=0.1,\n",
    "        l2_leaf_reg=3,\n",
    "        bootstrap_type='Bernoulli',\n",
    "        subsample=0.8,\n",
    "        random_state=42,\n",
    "        verbose=False\n",
    "    )"
   ]
  },
  {
   "cell_type": "code",
   "execution_count": 13,
   "id": "3662bca1",
   "metadata": {},
   "outputs": [
    {
     "name": "stdout",
     "output_type": "stream",
     "text": [
      "Accuracy: 0.8298\n",
      "Classification Report:\n",
      "              precision    recall  f1-score   support\n",
      "\n",
      "           0       0.87      0.92      0.89        36\n",
      "           1       0.67      0.55      0.60        11\n",
      "\n",
      "    accuracy                           0.83        47\n",
      "   macro avg       0.77      0.73      0.75        47\n",
      "weighted avg       0.82      0.83      0.82        47\n",
      "\n"
     ]
    }
   ],
   "source": [
    "model.fit(x_train_norm, y_ene_train)\n",
    "y_ene_pred = model.predict(x_test_norm)\n",
    "acc = accuracy_score(y_ene_test, y_ene_pred)\n",
    "report = classification_report(y_ene_test, y_ene_pred)\n",
    "print(f\"Accuracy: {acc:.4f}\")\n",
    "print(\"Classification Report:\")\n",
    "print(report)"
   ]
  },
  {
   "cell_type": "code",
   "execution_count": 14,
   "id": "07ced1a2",
   "metadata": {},
   "outputs": [
    {
     "name": "stdout",
     "output_type": "stream",
     "text": [
      "[[-0.27965028 -0.52720548  0.02109973  1.02263502  1.37692288 -0.38447801\n",
      "   0.79952887 -0.63150498  1.08038914 -0.35354436]\n",
      " [-0.79885466 -0.52720548  0.02109973  1.02263502  1.37692288  0.85931394\n",
      "   0.79193021  2.65666486 -0.72272785  1.09162565]\n",
      " [-1.23152499 -0.52720548  0.02109973 -1.55989999  1.37692288  0.54730605\n",
      "  -0.33034909  1.18056516 -0.79742891  1.71594719]\n",
      " [ 0.93182663 -0.52720548  1.13674821 -0.26863248 -0.61092141 -0.12728859\n",
      "  -0.82040711 -0.78806933 -0.1750657  -0.43982289]\n",
      " [-0.62578653 -0.52720548  1.13674821  1.02263502  0.38300073  0.68021581\n",
      "  -0.03511928  0.41747391 -0.41484444  0.65187921]\n",
      " [-1.23152499 -0.52720548 -1.09454874 -0.26863248 -0.61092141 -0.91410606\n",
      "  -1.20958078 -1.11421105 -0.23895594 -0.92899126]\n",
      " [-0.36618434 -0.52720548  0.02109973 -0.26863248  0.38300073  0.84480124\n",
      "  -1.0790904  -0.64579647 -0.52779597  0.42713357]\n",
      " [-0.10658215 -0.52720548  0.02109973  1.02263502  1.37692288 -1.06245838\n",
      "   0.23921805 -0.79547275  0.84982531 -0.96162856]\n",
      " [-2.01033157 -0.52720548  1.13674821 -0.26863248 -0.61092141 -1.0336116\n",
      "  -0.40844831 -0.98786895  0.51189085 -0.93336957]\n",
      " [ 0.84529257 -0.52720548  0.02109973 -1.55989999 -0.61092141 -0.75163435\n",
      "  -0.77040389 -0.41442832 -0.43013454 -0.61899665]\n",
      " [ 0.06648598 -0.52720548  0.02109973  1.02263502 -0.61092141 -0.55167147\n",
      "   0.6907021  -0.10500473  0.34503601 -0.24712608]\n",
      " [-0.02004808 -0.52720548  1.13674821  1.02263502  1.37692288 -0.04686056\n",
      "   0.75316318 -0.31410261  0.60224485 -0.26750962]\n",
      " [-0.79885466  1.89679363  1.13674821 -0.26863248 -0.61092141 -0.34787562\n",
      "   0.5187558  -0.65867155  0.88087842 -0.38509977]\n",
      " [-0.97192279 -0.52720548  1.13674821  1.02263502  0.38300073 -0.47592448\n",
      "  -0.0720087  -0.67300519  0.38140225 -0.55704211]\n",
      " [-0.62578653 -0.52720548  1.13674821  1.02263502  0.38300073  0.54558515\n",
      "   0.21623342  0.65018721 -0.39039121  0.63418341]\n",
      " [ 2.14330354  1.89679363  1.13674821 -1.55989999 -1.60484356 -0.85283352\n",
      "   0.67179084 -0.51898309  0.80095886 -0.21327343]\n",
      " [ 1.88370134 -0.52720548 -1.09454874 -1.55989999 -1.60484356 -0.19603393\n",
      "  -0.58851081  0.37214954 -0.6862967  -0.53331573]\n",
      " [ 0.84529257  1.89679363 -1.09454874 -0.26863248 -1.60484356  0.48830459\n",
      "   0.48385336  2.29369868 -0.74629734  0.31501299]\n",
      " [-0.27965028 -0.52720548  1.13674821  1.02263502  0.38300073  3.33588086\n",
      "  -0.23132631  1.63709172 -0.85618748  3.90408208]\n",
      " [ 2.40290573  1.89679363  0.02109973  1.02263502  0.38300073 -0.19135304\n",
      "  -0.41893674 -0.52475304 -0.0710085  -0.07636053]\n",
      " [-0.36618434  1.89679363  0.02109973 -0.26863248  1.37692288 -0.79005646\n",
      "  -0.96405262 -1.10645928  0.05327216 -0.52677915]\n",
      " [-0.36618434 -0.52720548 -1.09454874 -1.55989999 -0.61092141 -0.70443644\n",
      "  -0.32729085 -0.6309156   0.10941265 -0.65616809]\n",
      " [ 1.53756508 -0.52720548  0.02109973  1.02263502  0.38300073 -0.41873144\n",
      "  -0.68451824 -0.21021157 -0.48960225 -0.46145908]\n",
      " [ 1.19142883 -0.52720548 -1.09454874 -0.26863248  1.37692288 -0.13197267\n",
      "   0.01960367 -0.39393499  0.14862402 -0.08951646]\n",
      " [ 0.7587585   1.89679363  0.02109973 -1.55989999 -0.61092141 -0.56917848\n",
      "   0.1194271  -0.08335693 -0.04029816 -0.22033339]\n",
      " [-1.66419531 -0.52720548 -1.09454874 -1.55989999 -0.61092141 -0.53980722\n",
      "  -0.29456198 -0.50897958  0.01441415 -0.56668379]\n",
      " [-0.27965028 -0.52720548  1.13674821  1.02263502  0.38300073 -0.80059551\n",
      "   0.18212666  0.18876594 -0.17984254 -0.59261303]\n",
      " [ 1.0183607  -0.52720548  0.02109973 -0.26863248  1.37692288 -0.94472746\n",
      "  -0.80229289 -0.34805787 -0.4945836  -0.74635405]\n",
      " [ 2.66250793  1.89679363 -1.09454874  1.02263502  1.37692288  0.65438036\n",
      "   1.30122406  2.73222935 -0.59530939  1.7231852 ]\n",
      " [-0.7123206  -0.52720548 -1.09454874  1.02263502  1.37692288  5.3188926\n",
      "   1.40953158  2.77952165 -0.57509354  4.88948576]\n",
      " [ 0.93182663  1.89679363 -1.09454874 -0.26863248 -0.61092141 -0.36131397\n",
      "  -0.94150163 -0.56877819 -0.46339087 -0.65344691]\n",
      " [ 1.10489476 -0.52720548 -1.09454874 -0.26863248 -0.61092141 -0.62821822\n",
      "   0.11999803 -0.16806123  0.02408337 -0.74634335]\n",
      " [ 0.49915631 -0.52720548 -1.09454874 -0.26863248 -0.61092141 -0.60591248\n",
      "  -0.66901772 -0.89599779  0.096756   -0.87748819]\n",
      " [-1.40459312  1.89679363  1.13674821 -1.55989999 -1.60484356 -0.30576185\n",
      "  -0.84311568 -0.95098096 -0.01779743 -0.4642125 ]\n",
      " [ 1.36449696  1.89679363  0.02109973  1.02263502  1.37692288 -1.01393231\n",
      "  -0.26422294 -0.85328945  0.44918277 -0.79843916]\n",
      " [ 1.71063321  1.89679363  0.02109973  1.02263502  1.37692288  0.45571584\n",
      "  -0.38932118  0.27244823 -0.54081152  0.45524632]\n",
      " [-1.14499092  1.89679363  1.13674821  1.02263502  0.38300073  0.44455602\n",
      "   0.706271    0.75871712 -0.20910137  1.18955721]\n",
      " [ 1.45103102 -0.52720548  1.13674821 -1.55989999 -1.60484356 -0.85122631\n",
      "  -1.06232218 -1.07463066 -0.10978929 -0.95374305]\n",
      " [-1.05845686 -0.52720548  1.13674821  1.02263502  0.38300073 -0.28563505\n",
      "   2.45525049  1.60966909  0.10857886 -0.32610579]\n",
      " [-0.62578653 -0.52720548 -1.09454874  1.02263502  1.37692288 -0.23618633\n",
      "   8.41584832  0.25597088  4.33048311  0.29957607]\n",
      " [-0.45271841 -0.52720548 -1.09454874  1.02263502  1.37692288  0.35727184\n",
      "  -1.22656958  0.51210308 -1.05205782  0.39751977]\n",
      " [ 2.74904199 -0.52720548 -1.09454874  1.02263502  1.37692288 -0.09919963\n",
      "  -0.56729354 -0.45064909 -0.24935228  0.07217574]\n",
      " [ 1.19142883  1.89679363 -1.09454874 -1.55989999 -1.60484356 -0.96778377\n",
      "   1.19796321 -0.1905626   0.76854394 -0.71331855]\n",
      " [-0.97192279 -0.52720548 -1.09454874 -1.55989999 -1.60484356 -0.84979458\n",
      "   0.08203143 -0.67393236  0.51887547 -1.02059378]\n",
      " [-1.14499092 -0.52720548  1.13674821 -0.26863248 -0.61092141 -0.6821202\n",
      "   0.6836907   0.12731622  0.14936233 -0.43512323]\n",
      " [ 0.67222444  1.89679363 -1.09454874 -1.55989999 -1.60484356  1.7706092\n",
      "  -1.35307492  0.04183966 -1.01660219  1.40778017]\n",
      " [-1.23152499 -0.52720548  1.13674821  1.02263502 -0.61092141 -0.8293029\n",
      "   0.72124521 -0.6571817   1.05575846 -0.72071413]]\n"
     ]
    }
   ],
   "source": [
    "print(x_test_norm)"
   ]
  },
  {
   "cell_type": "code",
   "execution_count": 15,
   "id": "f979bd36",
   "metadata": {},
   "outputs": [
    {
     "name": "stdout",
     "output_type": "stream",
     "text": [
      "[1 0 0 0 1 0 1 0 0 0 0 1 0 0 0 0 0 0 1 0 0 0 1 0 0 0 1 0 1 0 0 0 0 0 0 0 0\n",
      " 0 0 1 0 0 0 0 0 0 0]\n"
     ]
    }
   ],
   "source": [
    "print(y_ene_pred)"
   ]
  },
  {
   "cell_type": "code",
   "execution_count": 16,
   "id": "43c3e4fa",
   "metadata": {},
   "outputs": [
    {
     "data": {
      "text/plain": [
       "['catboost.pkl']"
      ]
     },
     "execution_count": 16,
     "metadata": {},
     "output_type": "execute_result"
    }
   ],
   "source": [
    "import joblib\n",
    "joblib.dump(model, \"catboost.pkl\")"
   ]
  },
  {
   "cell_type": "code",
   "execution_count": null,
   "id": "a9ef0887",
   "metadata": {},
   "outputs": [
    {
     "data": {
      "text/plain": [
       "array([1])"
      ]
     },
     "execution_count": 28,
     "metadata": {},
     "output_type": "execute_result"
    }
   ],
   "source": [
    "model.predict([[50, 2,2,2,4,1.5,284.6,74.9,3.8,468.7]])"
   ]
  },
  {
   "cell_type": "code",
   "execution_count": null,
   "id": "31da1b0d",
   "metadata": {},
   "outputs": [
    {
     "data": {
      "text/plain": [
       "array([1])"
      ]
     },
     "execution_count": 29,
     "metadata": {},
     "output_type": "execute_result"
    }
   ],
   "source": [
    "model.predict([[64,1,2,1,1,6.037037,313.725490,214.814815,1.460446,1400.592593]])"
   ]
  },
  {
   "cell_type": "code",
   "execution_count": null,
   "id": "c5ccca52",
   "metadata": {},
   "outputs": [
    {
     "data": {
      "text/plain": [
       "array([1])"
      ]
     },
     "execution_count": 30,
     "metadata": {},
     "output_type": "execute_result"
    }
   ],
   "source": [
    "model.predict([[35,1,1,1,2,2.553030,333.333333,102.272727,3.259259,344.659091]])"
   ]
  },
  {
   "cell_type": "code",
   "execution_count": null,
   "id": "42746ce6",
   "metadata": {},
   "outputs": [
    {
     "data": {
      "text/plain": [
       "array([1])"
      ]
     },
     "execution_count": 31,
     "metadata": {},
     "output_type": "execute_result"
    }
   ],
   "source": [
    "model.predict([[76,2,2,3,4,5.329793,473.588342,180.096975,2.629630,2494.343108]])"
   ]
  }
 ],
 "metadata": {
  "kernelspec": {
   "display_name": "base",
   "language": "python",
   "name": "python3"
  },
  "language_info": {
   "codemirror_mode": {
    "name": "ipython",
    "version": 3
   },
   "file_extension": ".py",
   "mimetype": "text/x-python",
   "name": "python",
   "nbconvert_exporter": "python",
   "pygments_lexer": "ipython3",
   "version": "3.12.4"
  }
 },
 "nbformat": 4,
 "nbformat_minor": 5
}
