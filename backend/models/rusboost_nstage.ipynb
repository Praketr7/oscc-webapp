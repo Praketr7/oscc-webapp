{
 "cells": [
  {
   "cell_type": "code",
   "execution_count": 16,
   "id": "bfd14a0f",
   "metadata": {},
   "outputs": [],
   "source": [
    "import pandas as pd\n",
    "import numpy as np\n",
    "import seaborn as sns\n",
    "import matplotlib.pyplot as plt\n",
    "from sklearn.impute import KNNImputer\n",
    "from sklearn.model_selection import train_test_split\n",
    "from sklearn.preprocessing import StandardScaler\n",
    "from sklearn.base import BaseEstimator, ClassifierMixin\n",
    "from sklearn.neighbors import KNeighborsClassifier\n",
    "from imblearn.ensemble import RUSBoostClassifier\n",
    "from sklearn.metrics import accuracy_score, classification_report\n",
    "from sklearn.tree import DecisionTreeClassifier\n"
   ]
  },
  {
   "cell_type": "code",
   "execution_count": 17,
   "id": "89755bb2",
   "metadata": {},
   "outputs": [],
   "source": [
    "data = pd.read_excel('oscc_dataset.xlsx')\n",
    "data['N-stage'] = data['N-stage'].map({\n",
    "    'N-' : 0,\n",
    "    'N+' : 1\n",
    "})"
   ]
  },
  {
   "cell_type": "code",
   "execution_count": 25,
   "id": "e0842367",
   "metadata": {},
   "outputs": [
    {
     "name": "stdout",
     "output_type": "stream",
     "text": [
      "   Hospital No.  Age  Sex  Sites  DOI(mm)  T-stage  ENE  N-stage  \\\n",
      "0       3446087   50    2      2      2.0        4    0        0   \n",
      "1       3342831   76    2      2      3.0        4    1        1   \n",
      "2       2871977   64    1      2      1.0        1    0        0   \n",
      "3       3092768   49    1      2      3.0        4    1        1   \n",
      "4       3700269   35    1      1      1.0        2    0        0   \n",
      "\n",
      "   Platelet count(10power3/microliter)  WBC(TLC)(10power3/microliter)  ...  \\\n",
      "0                                  313                           11.7  ...   \n",
      "1                                  468                           18.3  ...   \n",
      "2                                  232                            8.5  ...   \n",
      "3                                  208                            6.8  ...   \n",
      "4                                  135                            5.4  ...   \n",
      "\n",
      "   Absolute monocyte count (TLC*monocyte %)(10power3/microliter)  \\\n",
      "0                                             1.0998               \n",
      "1                                             0.9882               \n",
      "2                                             0.7395               \n",
      "3                                             0.5236               \n",
      "4                                             0.4050               \n",
      "\n",
      "   Neutrophil %  \\\n",
      "0           NaN   \n",
      "1           NaN   \n",
      "2           NaN   \n",
      "3           NaN   \n",
      "4           NaN   \n",
      "\n",
      "   Absolute neutrophil count(WBC*neutrophil%/100)(10power3/microliter)  \\\n",
      "0                                               6.26                     \n",
      "1                                              13.85                     \n",
      "2                                               6.52                     \n",
      "3                                               4.50                     \n",
      "4                                               3.37                     \n",
      "\n",
      "   Lymphocyte %  \\\n",
      "0           NaN   \n",
      "1          14.2   \n",
      "2           NaN   \n",
      "3           NaN   \n",
      "4           NaN   \n",
      "\n",
      "   Absolute lymphocyte count(TLC* lymphocytes%/100)(10power3/microliter)  \\\n",
      "0                                             4.1800                       \n",
      "1                                             2.5986                       \n",
      "2                                             1.0800                       \n",
      "3                                             1.4300                       \n",
      "4                                             1.3200                       \n",
      "\n",
      "        NLR         PMR         PLR       LMR  \\\n",
      "0  1.497608  284.597199   74.880383  3.800691   \n",
      "1  5.329793  473.588342  180.096975  2.629630   \n",
      "2  6.037037  313.725490  214.814815  1.460446   \n",
      "3  3.146853  397.249809  145.454545  2.731092   \n",
      "4  2.553030  333.333333  102.272727  3.259259   \n",
      "\n",
      "   SII=P*(N/L)(10power3/microliter)  \n",
      "0                        468.751196  \n",
      "1                       2494.343108  \n",
      "2                       1400.592593  \n",
      "3                        654.545455  \n",
      "4                        344.659091  \n",
      "\n",
      "[5 rows x 21 columns]\n"
     ]
    }
   ],
   "source": [
    "print(data.head(5))"
   ]
  },
  {
   "cell_type": "code",
   "execution_count": 27,
   "id": "d3d850e8",
   "metadata": {},
   "outputs": [
    {
     "name": "stdout",
     "output_type": "stream",
     "text": [
      "[4 1 2 3]\n",
      "[2 1 3]\n"
     ]
    }
   ],
   "source": [
    "print(data[\"T-stage\"].unique())\n",
    "print(data[\"Sites\"].unique())"
   ]
  },
  {
   "cell_type": "code",
   "execution_count": 18,
   "id": "bb10028b",
   "metadata": {},
   "outputs": [],
   "source": [
    "clean_data = data.copy()\n",
    "clean_data = clean_data.drop(columns=['Neutrophil %', 'Lymphocyte %', 'Hospital No.'])\n",
    "knn_imputer = KNNImputer(n_neighbors=5, weights='distance')\n",
    "imputed_values = knn_imputer.fit_transform(clean_data[['DOI(mm)']])\n",
    "imputed_rounded = np.rint(imputed_values).astype(int)\n",
    "clean_data['DOI(mm)'] = imputed_rounded"
   ]
  },
  {
   "cell_type": "code",
   "execution_count": null,
   "id": "5db0ccb4",
   "metadata": {},
   "outputs": [],
   "source": [
    "x = clean_data.drop(columns=['ENE', 'N-stage','Platelet count(10power3/microliter)', 'WBC(TLC)(10power3/microliter)', 'Monocyte %',\n",
    "                       'Absolute monocyte count (TLC*monocyte %)(10power3/microliter)', 'Absolute neutrophil count(WBC*neutrophil%/100)(10power3/microliter)',\n",
    "                       'Absolute lymphocyte count(TLC* lymphocytes%/100)(10power3/microliter)'])"
   ]
  },
  {
   "cell_type": "code",
   "execution_count": 24,
   "id": "5defed96",
   "metadata": {},
   "outputs": [
    {
     "name": "stdout",
     "output_type": "stream",
     "text": [
      "   Age  Sex  Sites  DOI(mm)  T-stage       NLR         PMR         PLR  \\\n",
      "0   50    2      2        2        4  1.497608  284.597199   74.880383   \n",
      "1   76    2      2        3        4  5.329793  473.588342  180.096975   \n",
      "2   64    1      2        1        1  6.037037  313.725490  214.814815   \n",
      "3   49    1      2        3        4  3.146853  397.249809  145.454545   \n",
      "4   35    1      1        1        2  2.553030  333.333333  102.272727   \n",
      "\n",
      "        LMR  SII=P*(N/L)(10power3/microliter)  \n",
      "0  3.800691                        468.751196  \n",
      "1  2.629630                       2494.343108  \n",
      "2  1.460446                       1400.592593  \n",
      "3  2.731092                        654.545455  \n",
      "4  3.259259                        344.659091  \n"
     ]
    }
   ],
   "source": [
    "print(x.head(5))"
   ]
  },
  {
   "cell_type": "code",
   "execution_count": 20,
   "id": "799314c1",
   "metadata": {},
   "outputs": [],
   "source": [
    "x_train, x_test, y_train, y_test = train_test_split(x, clean_data[['ENE','N-stage']], train_size=0.9, test_size=0.1, random_state=42)\n",
    "y_n_stage_train = y_train['N-stage']\n",
    "y_n_stage_test = y_test['N-stage']\n",
    "normalize = StandardScaler()\n",
    "x_train_norm = normalize.fit_transform(x_train)\n",
    "x_test_norm = normalize.transform(x_test)"
   ]
  },
  {
   "cell_type": "code",
   "execution_count": 21,
   "id": "5025677d",
   "metadata": {},
   "outputs": [],
   "source": [
    "model = RUSBoostClassifier(\n",
    "        estimator=DecisionTreeClassifier(max_depth=6),\n",
    "        n_estimators=200,\n",
    "        learning_rate=0.5,\n",
    "        sampling_strategy='auto',\n",
    "        replacement=False,\n",
    "        random_state=42\n",
    "    )"
   ]
  },
  {
   "cell_type": "code",
   "execution_count": 22,
   "id": "3662bca1",
   "metadata": {},
   "outputs": [
    {
     "name": "stdout",
     "output_type": "stream",
     "text": [
      "Accuracy: 0.8085\n",
      "Classification Report:\n",
      "              precision    recall  f1-score   support\n",
      "\n",
      "           0       0.88      0.79      0.83        28\n",
      "           1       0.73      0.84      0.78        19\n",
      "\n",
      "    accuracy                           0.81        47\n",
      "   macro avg       0.80      0.81      0.81        47\n",
      "weighted avg       0.82      0.81      0.81        47\n",
      "\n"
     ]
    }
   ],
   "source": [
    "model.fit(x_train_norm, y_n_stage_train)\n",
    "y_n_stage_pred = model.predict(x_test_norm)\n",
    "acc = accuracy_score(y_n_stage_test, y_n_stage_pred)\n",
    "report = classification_report(y_n_stage_test, y_n_stage_pred)\n",
    "print(f\"Accuracy: {acc:.4f}\")\n",
    "print(\"Classification Report:\")\n",
    "print(report)"
   ]
  },
  {
   "cell_type": "code",
   "execution_count": 23,
   "id": "43c3e4fa",
   "metadata": {},
   "outputs": [
    {
     "data": {
      "text/plain": [
       "['rusboost.pkl']"
      ]
     },
     "execution_count": 23,
     "metadata": {},
     "output_type": "execute_result"
    }
   ],
   "source": [
    "import joblib\n",
    "joblib.dump(model, \"rusboost.pkl\")"
   ]
  }
 ],
 "metadata": {
  "kernelspec": {
   "display_name": "base",
   "language": "python",
   "name": "python3"
  },
  "language_info": {
   "codemirror_mode": {
    "name": "ipython",
    "version": 3
   },
   "file_extension": ".py",
   "mimetype": "text/x-python",
   "name": "python",
   "nbconvert_exporter": "python",
   "pygments_lexer": "ipython3",
   "version": "3.12.4"
  }
 },
 "nbformat": 4,
 "nbformat_minor": 5
}
