{
 "cells": [
  {
   "cell_type": "code",
   "execution_count": 2,
   "id": "bfd14a0f",
   "metadata": {},
   "outputs": [],
   "source": [
    "import pandas as pd\n",
    "import numpy as np\n",
    "import seaborn as sns\n",
    "import matplotlib.pyplot as plt\n",
    "from sklearn.impute import KNNImputer\n",
    "from sklearn.model_selection import train_test_split\n",
    "from sklearn.preprocessing import StandardScaler\n",
    "from sklearn.base import BaseEstimator, ClassifierMixin\n",
    "from sklearn.neighbors import KNeighborsClassifier\n",
    "from imblearn.ensemble import RUSBoostClassifier\n",
    "from sklearn.metrics import accuracy_score, classification_report"
   ]
  },
  {
   "cell_type": "code",
   "execution_count": 3,
   "id": "89755bb2",
   "metadata": {},
   "outputs": [],
   "source": [
    "data = pd.read_excel('oscc_dataset.xlsx')\n",
    "data['N-stage'] = data['N-stage'].map({\n",
    "    'N-' : 0,\n",
    "    'N+' : 1\n",
    "})"
   ]
  },
  {
   "cell_type": "code",
   "execution_count": 4,
   "id": "bb10028b",
   "metadata": {},
   "outputs": [],
   "source": [
    "clean_data = data.copy()\n",
    "clean_data = clean_data.drop(columns=['Neutrophil %', 'Lymphocyte %', 'Hospital No.'])\n",
    "knn_imputer = KNNImputer(n_neighbors=5, weights='distance')\n",
    "imputed_values = knn_imputer.fit_transform(clean_data[['DOI(mm)']])\n",
    "imputed_rounded = np.rint(imputed_values).astype(int)\n",
    "clean_data['DOI(mm)'] = imputed_rounded"
   ]
  },
  {
   "cell_type": "code",
   "execution_count": 5,
   "id": "5db0ccb4",
   "metadata": {},
   "outputs": [],
   "source": [
    "n_stage_features = [\n",
    "    'Age',\n",
    "    'DOI(mm)',\n",
    "    'T-stage',\n",
    "    'NLR',\n",
    "    'PMR',\n",
    "    'PLR',\n",
    "    'SII=P*(N/L)(10power3/microliter)'\n",
    "]\n",
    "\n",
    "x = clean_data.drop(columns=['ENE', 'N-stage','Platelet count(10power3/microliter)', 'WBC(TLC)(10power3/microliter)', 'Monocyte %',\n",
    "                       'Absolute monocyte count (TLC*monocyte %)(10power3/microliter)', 'Absolute neutrophil count(WBC*neutrophil%/100)(10power3/microliter)',\n",
    "                       'Absolute lymphocyte count(TLC* lymphocytes%/100)(10power3/microliter)'])"
   ]
  },
  {
   "cell_type": "code",
   "execution_count": 6,
   "id": "799314c1",
   "metadata": {},
   "outputs": [],
   "source": [
    "x_train, x_test, y_train, y_test = train_test_split(x, clean_data[['ENE','N-stage']], train_size=0.9, test_size=0.1, random_state=42)\n",
    "y_n_stage_train = y_train['N-stage']\n",
    "y_n_stage_test = y_test['N-stage']\n",
    "normalize = StandardScaler()\n",
    "x_train_norm = normalize.fit_transform(x_train)\n",
    "x_test_norm = normalize.transform(x_test)"
   ]
  },
  {
   "cell_type": "code",
   "execution_count": 7,
   "id": "5025677d",
   "metadata": {},
   "outputs": [],
   "source": [
    "model = RUSBoostClassifier(\n",
    "        estimator=DecisionTreeClassifier(max_depth=6),\n",
    "        n_estimators=200,\n",
    "        learning_rate=0.5,\n",
    "        sampling_strategy='auto',\n",
    "        replacement=False,\n",
    "        random_state=42\n",
    "    )"
   ]
  },
  {
   "cell_type": "code",
   "execution_count": null,
   "id": "3662bca1",
   "metadata": {},
   "outputs": [
    {
     "name": "stdout",
     "output_type": "stream",
     "text": [
      "Accuracy: 0.8085\n",
      "Classification Report:\n",
      "              precision    recall  f1-score   support\n",
      "\n",
      "           0       0.88      0.79      0.83        28\n",
      "           1       0.73      0.84      0.78        19\n",
      "\n",
      "    accuracy                           0.81        47\n",
      "   macro avg       0.80      0.81      0.81        47\n",
      "weighted avg       0.82      0.81      0.81        47\n",
      "\n"
     ]
    }
   ],
   "source": [
    "model.fit(x_train_norm, y_n_stage_train)\n",
    "y_n_stage_pred = model.predict(x_test_norm)\n",
    "acc = accuracy_score(y_n_stage_test, y_n_stage_pred)\n",
    "report = classification_report(y_n_stage_test, y_n_stage_pred)\n",
    "print(f\"Accuracy: {acc:.4f}\")\n",
    "print(\"Classification Report:\")\n",
    "print(report)"
   ]
  },
  {
   "cell_type": "code",
   "execution_count": null,
   "id": "43c3e4fa",
   "metadata": {},
   "outputs": [],
   "source": [
    "import joblib\n",
    "joblib.dump(model, \"model.pkl\")"
   ]
  }
 ],
 "metadata": {
  "kernelspec": {
   "display_name": "base",
   "language": "python",
   "name": "python3"
  },
  "language_info": {
   "codemirror_mode": {
    "name": "ipython",
    "version": 3
   },
   "file_extension": ".py",
   "mimetype": "text/x-python",
   "name": "python",
   "nbconvert_exporter": "python",
   "pygments_lexer": "ipython3",
   "version": "3.12.4"
  }
 },
 "nbformat": 4,
 "nbformat_minor": 5
}
